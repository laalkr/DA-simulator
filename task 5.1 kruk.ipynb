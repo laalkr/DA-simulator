{
 "cells": [
  {
   "cell_type": "markdown",
   "id": "4b2c7a42",
   "metadata": {},
   "source": [
    "Есть данные АА-теста с '2023-03-25' по '2023-03-31'. Нужно сделать симуляцию, как будто было проведено 10000 АА-тестов. На каждой итерации нужно сформировать подвыборки без повторения в 500 юзеров из 2 и 3 экспериментальной группы. Провести сравнение этих подвыборок t-testом.\n",
    "\n",
    "1. Построить гистограмму распределения получившихся 10000 p-values.\n",
    "\n",
    "2. Посчитать, какой процент p values оказался меньше либо равен 0.05\n",
    "\n",
    "3. Написать вывод по проведенному АА-тесту, корректно ли работает наша система сплитования.\n",
    "\n",
    "4. Прислать ссылку на merge request c проведенным анализом."
   ]
  },
  {
   "cell_type": "markdown",
   "id": "4f5b3d61",
   "metadata": {},
   "source": [
    "Ход действий:\n",
    "1. Подготовка: загружаю библиотеки, устанавливаю соединение, выгружаю данные в пандовский датафрейм.\n",
    "2. Смотрю на данные в разрезах: количество пользователей в экспериментальной и контрольной группах, в разрезе страны регистрации пользователей, источника трафика, используемой платформы.\n",
    "3. Выбираю оптимальный метод для сравнения метрики, провожу тест."
   ]
  },
  {
   "cell_type": "markdown",
   "id": "7437448a",
   "metadata": {},
   "source": [
    "#### 1. Подготовка"
   ]
  },
  {
   "cell_type": "code",
   "execution_count": 1,
   "id": "ad3fa2e1",
   "metadata": {},
   "outputs": [],
   "source": [
    "# Загружаю необходимые библиотеки.\n",
    "\n",
    "import pandas as pd\n",
    "\n",
    "import seaborn as sns\n",
    "import matplotlib.pyplot as plt\n",
    "%matplotlib inline\n",
    "\n",
    "import pandahouse\n",
    "\n",
    "from scipy import stats\n",
    "from statsmodels.sandbox.stats.multicomp import multipletests"
   ]
  },
  {
   "cell_type": "code",
   "execution_count": 2,
   "id": "a457587a",
   "metadata": {},
   "outputs": [],
   "source": [
    "# Соединение.\n",
    "\n",
    "connection = {\n",
    "    'host': 'https://clickhouse.lab.karpov.courses',\n",
    "    'password': 'dpo_python_2020',\n",
    "    'user': 'student',\n",
    "    'database': 'simulator_20230420'\n",
    "}"
   ]
  },
  {
   "cell_type": "code",
   "execution_count": 3,
   "id": "da006a82",
   "metadata": {},
   "outputs": [],
   "source": [
    "# Считаю количество лайков и просмотров на юзера, ctr.\n",
    "\n",
    "q = \"\"\"\n",
    "SELECT exp_group, \n",
    "    user_id,\n",
    "    sum(action = 'like') as likes,\n",
    "    sum(action = 'view') as views,\n",
    "    likes/views as ctr\n",
    "FROM {db}.feed_actions \n",
    "WHERE toDate(time) between '2023-03-25' and '2023-03-31'\n",
    "    and exp_group in (2,3)\n",
    "GROUP BY exp_group, user_id\n",
    "\"\"\""
   ]
  },
  {
   "cell_type": "code",
   "execution_count": 4,
   "id": "77a950af",
   "metadata": {},
   "outputs": [],
   "source": [
    "# Выгружаю данные в пандовский датафрейм.\n",
    "\n",
    "df = pandahouse.read_clickhouse(q, connection=connection)"
   ]
  },
  {
   "cell_type": "code",
   "execution_count": 5,
   "id": "c5b7f091",
   "metadata": {},
   "outputs": [
    {
     "data": {
      "text/html": [
       "<div>\n",
       "<style scoped>\n",
       "    .dataframe tbody tr th:only-of-type {\n",
       "        vertical-align: middle;\n",
       "    }\n",
       "\n",
       "    .dataframe tbody tr th {\n",
       "        vertical-align: top;\n",
       "    }\n",
       "\n",
       "    .dataframe thead th {\n",
       "        text-align: right;\n",
       "    }\n",
       "</style>\n",
       "<table border=\"1\" class=\"dataframe\">\n",
       "  <thead>\n",
       "    <tr style=\"text-align: right;\">\n",
       "      <th></th>\n",
       "      <th>exp_group</th>\n",
       "      <th>user_id</th>\n",
       "      <th>likes</th>\n",
       "      <th>views</th>\n",
       "      <th>ctr</th>\n",
       "    </tr>\n",
       "  </thead>\n",
       "  <tbody>\n",
       "    <tr>\n",
       "      <th>0</th>\n",
       "      <td>3</td>\n",
       "      <td>115383</td>\n",
       "      <td>11</td>\n",
       "      <td>36</td>\n",
       "      <td>0.305556</td>\n",
       "    </tr>\n",
       "    <tr>\n",
       "      <th>1</th>\n",
       "      <td>3</td>\n",
       "      <td>123580</td>\n",
       "      <td>15</td>\n",
       "      <td>92</td>\n",
       "      <td>0.163043</td>\n",
       "    </tr>\n",
       "    <tr>\n",
       "      <th>2</th>\n",
       "      <td>2</td>\n",
       "      <td>131473</td>\n",
       "      <td>26</td>\n",
       "      <td>148</td>\n",
       "      <td>0.175676</td>\n",
       "    </tr>\n",
       "    <tr>\n",
       "      <th>3</th>\n",
       "      <td>2</td>\n",
       "      <td>23985</td>\n",
       "      <td>12</td>\n",
       "      <td>66</td>\n",
       "      <td>0.181818</td>\n",
       "    </tr>\n",
       "    <tr>\n",
       "      <th>4</th>\n",
       "      <td>2</td>\n",
       "      <td>24523</td>\n",
       "      <td>17</td>\n",
       "      <td>120</td>\n",
       "      <td>0.141667</td>\n",
       "    </tr>\n",
       "  </tbody>\n",
       "</table>\n",
       "</div>"
      ],
      "text/plain": [
       "   exp_group  user_id  likes  views       ctr\n",
       "0          3   115383     11     36  0.305556\n",
       "1          3   123580     15     92  0.163043\n",
       "2          2   131473     26    148  0.175676\n",
       "3          2    23985     12     66  0.181818\n",
       "4          2    24523     17    120  0.141667"
      ]
     },
     "execution_count": 5,
     "metadata": {},
     "output_type": "execute_result"
    }
   ],
   "source": [
    "df.head()"
   ]
  },
  {
   "cell_type": "markdown",
   "id": "f19dc9b8",
   "metadata": {},
   "source": [
    "#### 2. EDA"
   ]
  },
  {
   "cell_type": "code",
   "execution_count": 6,
   "id": "baaff271",
   "metadata": {},
   "outputs": [
    {
     "data": {
      "text/html": [
       "<div>\n",
       "<style scoped>\n",
       "    .dataframe tbody tr th:only-of-type {\n",
       "        vertical-align: middle;\n",
       "    }\n",
       "\n",
       "    .dataframe tbody tr th {\n",
       "        vertical-align: top;\n",
       "    }\n",
       "\n",
       "    .dataframe thead th {\n",
       "        text-align: right;\n",
       "    }\n",
       "</style>\n",
       "<table border=\"1\" class=\"dataframe\">\n",
       "  <thead>\n",
       "    <tr style=\"text-align: right;\">\n",
       "      <th></th>\n",
       "      <th>exp_group</th>\n",
       "      <th>users_count</th>\n",
       "    </tr>\n",
       "  </thead>\n",
       "  <tbody>\n",
       "    <tr>\n",
       "      <th>0</th>\n",
       "      <td>2</td>\n",
       "      <td>8480</td>\n",
       "    </tr>\n",
       "    <tr>\n",
       "      <th>1</th>\n",
       "      <td>3</td>\n",
       "      <td>8569</td>\n",
       "    </tr>\n",
       "  </tbody>\n",
       "</table>\n",
       "</div>"
      ],
      "text/plain": [
       "   exp_group  users_count\n",
       "0          2         8480\n",
       "1          3         8569"
      ]
     },
     "execution_count": 6,
     "metadata": {},
     "output_type": "execute_result"
    }
   ],
   "source": [
    "# Проверяю сколько юзеров попало в каждую из групп.\n",
    "\n",
    "df.groupby('exp_group', as_index = False).agg({'user_id' : 'count'}).rename(columns = {'user_id' : 'users_count'})"
   ]
  },
  {
   "cell_type": "markdown",
   "id": "ad8d063f",
   "metadata": {},
   "source": [
    "В каждую из групп попало примерно одинаковое количество пользователей."
   ]
  },
  {
   "cell_type": "code",
   "execution_count": 7,
   "id": "30058e6b",
   "metadata": {},
   "outputs": [],
   "source": [
    "# Смотрю на данные в разрезе страны регистрации пользователей."
   ]
  },
  {
   "cell_type": "code",
   "execution_count": 8,
   "id": "0160b8e3",
   "metadata": {},
   "outputs": [],
   "source": [
    "# Группирую данные с учетом страны, считаю количество пользователей.\n",
    "\n",
    "q_country = \"\"\"\n",
    "SELECT exp_group, \n",
    "       country,\n",
    "       COUNT(distinct user_id) AS users  \n",
    "FROM {db}.feed_actions \n",
    "WHERE toDate(time) between '2023-03-25' and '2023-03-31'\n",
    "    and exp_group in (2,3)\n",
    "GROUP BY exp_group, country\n",
    "\"\"\""
   ]
  },
  {
   "cell_type": "code",
   "execution_count": 9,
   "id": "2dcc23cb",
   "metadata": {},
   "outputs": [],
   "source": [
    "# Выгружаю данные.\n",
    "\n",
    "df_country = pandahouse.read_clickhouse(q_country, connection=connection)"
   ]
  },
  {
   "cell_type": "code",
   "execution_count": 10,
   "id": "359ffed9",
   "metadata": {},
   "outputs": [
    {
     "data": {
      "text/html": [
       "<div>\n",
       "<style scoped>\n",
       "    .dataframe tbody tr th:only-of-type {\n",
       "        vertical-align: middle;\n",
       "    }\n",
       "\n",
       "    .dataframe tbody tr th {\n",
       "        vertical-align: top;\n",
       "    }\n",
       "\n",
       "    .dataframe thead th {\n",
       "        text-align: right;\n",
       "    }\n",
       "</style>\n",
       "<table border=\"1\" class=\"dataframe\">\n",
       "  <thead>\n",
       "    <tr style=\"text-align: right;\">\n",
       "      <th></th>\n",
       "      <th>exp_group</th>\n",
       "      <th>country</th>\n",
       "      <th>users</th>\n",
       "    </tr>\n",
       "  </thead>\n",
       "  <tbody>\n",
       "    <tr>\n",
       "      <th>0</th>\n",
       "      <td>3</td>\n",
       "      <td>Kazakhstan</td>\n",
       "      <td>154</td>\n",
       "    </tr>\n",
       "    <tr>\n",
       "      <th>1</th>\n",
       "      <td>3</td>\n",
       "      <td>Turkey</td>\n",
       "      <td>87</td>\n",
       "    </tr>\n",
       "    <tr>\n",
       "      <th>2</th>\n",
       "      <td>2</td>\n",
       "      <td>Belarus</td>\n",
       "      <td>156</td>\n",
       "    </tr>\n",
       "    <tr>\n",
       "      <th>3</th>\n",
       "      <td>2</td>\n",
       "      <td>Russia</td>\n",
       "      <td>7465</td>\n",
       "    </tr>\n",
       "    <tr>\n",
       "      <th>4</th>\n",
       "      <td>3</td>\n",
       "      <td>Latvia</td>\n",
       "      <td>9</td>\n",
       "    </tr>\n",
       "  </tbody>\n",
       "</table>\n",
       "</div>"
      ],
      "text/plain": [
       "   exp_group     country  users\n",
       "0          3  Kazakhstan    154\n",
       "1          3      Turkey     87\n",
       "2          2     Belarus    156\n",
       "3          2      Russia   7465\n",
       "4          3      Latvia      9"
      ]
     },
     "execution_count": 10,
     "metadata": {},
     "output_type": "execute_result"
    }
   ],
   "source": [
    "df_country.head()"
   ]
  },
  {
   "cell_type": "code",
   "execution_count": 11,
   "id": "07011fa8",
   "metadata": {},
   "outputs": [
    {
     "data": {
      "image/png": "[encoded data removed]",
      "text/plain": [
       "<Figure size 1368x720 with 1 Axes>"
      ]
     },
     "metadata": {
      "needs_background": "light"
     },
     "output_type": "display_data"
    }
   ],
   "source": [
    "# Распределение пользователей по странам для двух групп.\n",
    "\n",
    "plt.figure(figsize=(19, 10))\n",
    "\n",
    "sns.barplot(data=df_country, x=\"users\", y=\"country\", hue=\"exp_group\", palette='Purples')\n",
    "sns.despine()\n",
    "plt.legend(bbox_to_anchor=(1.2, 0.97), title='exp group')\n",
    "plt.show()"
   ]
  },
  {
   "cell_type": "code",
   "execution_count": 12,
   "id": "64a1c6eb",
   "metadata": {},
   "outputs": [
    {
     "data": {
      "text/plain": [
       "exp_group      int8\n",
       "country      object\n",
       "users        uint64\n",
       "dtype: object"
      ]
     },
     "execution_count": 12,
     "metadata": {},
     "output_type": "execute_result"
    }
   ],
   "source": [
    "# Проверяю типы данных.\n",
    "\n",
    "df_country.dtypes"
   ]
  },
  {
   "cell_type": "code",
   "execution_count": 13,
   "id": "9cc99fd3",
   "metadata": {},
   "outputs": [],
   "source": [
    "# Привожу к нужному типу данные.\n",
    "\n",
    "df_country.users = df_country.users.astype(int)\n",
    "\n",
    "df_country.exp_group = df_country.exp_group.astype(str)"
   ]
  },
  {
   "cell_type": "code",
   "execution_count": 14,
   "id": "0e7e91a8",
   "metadata": {},
   "outputs": [
    {
     "data": {
      "text/plain": [
       "exp_group    object\n",
       "country      object\n",
       "users         int64\n",
       "dtype: object"
      ]
     },
     "execution_count": 14,
     "metadata": {},
     "output_type": "execute_result"
    }
   ],
   "source": [
    "df_country.dtypes"
   ]
  },
  {
   "cell_type": "code",
   "execution_count": 15,
   "id": "62e7ffc9",
   "metadata": {},
   "outputs": [
    {
     "data": {
      "text/html": [
       "<div>\n",
       "<style scoped>\n",
       "    .dataframe tbody tr th:only-of-type {\n",
       "        vertical-align: middle;\n",
       "    }\n",
       "\n",
       "    .dataframe tbody tr th {\n",
       "        vertical-align: top;\n",
       "    }\n",
       "\n",
       "    .dataframe thead th {\n",
       "        text-align: right;\n",
       "    }\n",
       "</style>\n",
       "<table border=\"1\" class=\"dataframe\">\n",
       "  <thead>\n",
       "    <tr style=\"text-align: right;\">\n",
       "      <th>exp_group</th>\n",
       "      <th>country</th>\n",
       "      <th>2</th>\n",
       "      <th>3</th>\n",
       "    </tr>\n",
       "  </thead>\n",
       "  <tbody>\n",
       "    <tr>\n",
       "      <th>0</th>\n",
       "      <td>Azerbaijan</td>\n",
       "      <td>88</td>\n",
       "      <td>76</td>\n",
       "    </tr>\n",
       "    <tr>\n",
       "      <th>1</th>\n",
       "      <td>Belarus</td>\n",
       "      <td>156</td>\n",
       "      <td>160</td>\n",
       "    </tr>\n",
       "    <tr>\n",
       "      <th>2</th>\n",
       "      <td>Cyprus</td>\n",
       "      <td>7</td>\n",
       "      <td>12</td>\n",
       "    </tr>\n",
       "    <tr>\n",
       "      <th>3</th>\n",
       "      <td>Estonia</td>\n",
       "      <td>6</td>\n",
       "      <td>8</td>\n",
       "    </tr>\n",
       "    <tr>\n",
       "      <th>4</th>\n",
       "      <td>Finland</td>\n",
       "      <td>88</td>\n",
       "      <td>74</td>\n",
       "    </tr>\n",
       "  </tbody>\n",
       "</table>\n",
       "</div>"
      ],
      "text/plain": [
       "exp_group     country    2    3\n",
       "0          Azerbaijan   88   76\n",
       "1             Belarus  156  160\n",
       "2              Cyprus    7   12\n",
       "3             Estonia    6    8\n",
       "4             Finland   88   74"
      ]
     },
     "execution_count": 15,
     "metadata": {},
     "output_type": "execute_result"
    }
   ],
   "source": [
    "# Для удобства сравнения модифицирую датафрейм.\n",
    "\n",
    "df_country = df_country \\\n",
    "                .pivot_table(index = 'country', columns = 'exp_group', values = 'users').reset_index()\n",
    "\n",
    "df_country.head()"
   ]
  },
  {
   "cell_type": "code",
   "execution_count": 16,
   "id": "21a133ea",
   "metadata": {
    "scrolled": true
   },
   "outputs": [
    {
     "data": {
      "text/html": [
       "<div>\n",
       "<style scoped>\n",
       "    .dataframe tbody tr th:only-of-type {\n",
       "        vertical-align: middle;\n",
       "    }\n",
       "\n",
       "    .dataframe tbody tr th {\n",
       "        vertical-align: top;\n",
       "    }\n",
       "\n",
       "    .dataframe thead th {\n",
       "        text-align: right;\n",
       "    }\n",
       "</style>\n",
       "<table border=\"1\" class=\"dataframe\">\n",
       "  <thead>\n",
       "    <tr style=\"text-align: right;\">\n",
       "      <th>exp_group</th>\n",
       "      <th>country</th>\n",
       "      <th>2</th>\n",
       "      <th>3</th>\n",
       "      <th>difference</th>\n",
       "    </tr>\n",
       "  </thead>\n",
       "  <tbody>\n",
       "    <tr>\n",
       "      <th>0</th>\n",
       "      <td>Azerbaijan</td>\n",
       "      <td>88</td>\n",
       "      <td>76</td>\n",
       "      <td>14.634146</td>\n",
       "    </tr>\n",
       "    <tr>\n",
       "      <th>1</th>\n",
       "      <td>Belarus</td>\n",
       "      <td>156</td>\n",
       "      <td>160</td>\n",
       "      <td>-2.531646</td>\n",
       "    </tr>\n",
       "    <tr>\n",
       "      <th>2</th>\n",
       "      <td>Cyprus</td>\n",
       "      <td>7</td>\n",
       "      <td>12</td>\n",
       "      <td>-52.631579</td>\n",
       "    </tr>\n",
       "    <tr>\n",
       "      <th>3</th>\n",
       "      <td>Estonia</td>\n",
       "      <td>6</td>\n",
       "      <td>8</td>\n",
       "      <td>-28.571429</td>\n",
       "    </tr>\n",
       "    <tr>\n",
       "      <th>4</th>\n",
       "      <td>Finland</td>\n",
       "      <td>88</td>\n",
       "      <td>74</td>\n",
       "      <td>17.283951</td>\n",
       "    </tr>\n",
       "    <tr>\n",
       "      <th>5</th>\n",
       "      <td>Kazakhstan</td>\n",
       "      <td>171</td>\n",
       "      <td>154</td>\n",
       "      <td>10.461538</td>\n",
       "    </tr>\n",
       "    <tr>\n",
       "      <th>6</th>\n",
       "      <td>Latvia</td>\n",
       "      <td>11</td>\n",
       "      <td>9</td>\n",
       "      <td>20.000000</td>\n",
       "    </tr>\n",
       "    <tr>\n",
       "      <th>7</th>\n",
       "      <td>Russia</td>\n",
       "      <td>7465</td>\n",
       "      <td>7544</td>\n",
       "      <td>-1.052702</td>\n",
       "    </tr>\n",
       "    <tr>\n",
       "      <th>8</th>\n",
       "      <td>Switzerland</td>\n",
       "      <td>7</td>\n",
       "      <td>8</td>\n",
       "      <td>-13.333333</td>\n",
       "    </tr>\n",
       "    <tr>\n",
       "      <th>9</th>\n",
       "      <td>Turkey</td>\n",
       "      <td>73</td>\n",
       "      <td>87</td>\n",
       "      <td>-17.500000</td>\n",
       "    </tr>\n",
       "    <tr>\n",
       "      <th>10</th>\n",
       "      <td>Ukraine</td>\n",
       "      <td>408</td>\n",
       "      <td>437</td>\n",
       "      <td>-6.863905</td>\n",
       "    </tr>\n",
       "  </tbody>\n",
       "</table>\n",
       "</div>"
      ],
      "text/plain": [
       "exp_group      country     2     3  difference\n",
       "0           Azerbaijan    88    76   14.634146\n",
       "1              Belarus   156   160   -2.531646\n",
       "2               Cyprus     7    12  -52.631579\n",
       "3              Estonia     6     8  -28.571429\n",
       "4              Finland    88    74   17.283951\n",
       "5           Kazakhstan   171   154   10.461538\n",
       "6               Latvia    11     9   20.000000\n",
       "7               Russia  7465  7544   -1.052702\n",
       "8          Switzerland     7     8  -13.333333\n",
       "9               Turkey    73    87  -17.500000\n",
       "10             Ukraine   408   437   -6.863905"
      ]
     },
     "execution_count": 16,
     "metadata": {},
     "output_type": "execute_result"
    }
   ],
   "source": [
    "# Считаю разницу количества пользователей в процентах между двумя группами по странам.\n",
    "\n",
    "df_country['difference'] = ((df_country['2'] - df_country['3'])/((df_country['2'] + df_country['3'])/2)*100)\n",
    "\n",
    "df_country"
   ]
  },
  {
   "cell_type": "markdown",
   "id": "de4e122d",
   "metadata": {},
   "source": [
    "Можно сделать вывод, что в двух группах охвачены одинаковые страны с примерно одинаковым количеством пользователей. Разница в количестве пользователей для одной страны между группами тем выше, чем меньше пользователей зарегистрировано в этой стране. Исключение составляет Кипр, где есть явная разбалансировка, которая может быть связана как раз с маленьким количеством пользователей приложения из Кипра."
   ]
  },
  {
   "cell_type": "code",
   "execution_count": 17,
   "id": "b7eee30c",
   "metadata": {},
   "outputs": [],
   "source": [
    "# Смотрю на данные в разрезе платформы: iOS vs Android."
   ]
  },
  {
   "cell_type": "code",
   "execution_count": 18,
   "id": "916a8431",
   "metadata": {},
   "outputs": [],
   "source": [
    "# Группирую данные с учетом платформы, считаю количество пользователей.\n",
    "\n",
    "q_os = \"\"\"\n",
    "SELECT exp_group, \n",
    "       os,\n",
    "       COUNT(distinct user_id) AS users  \n",
    "FROM {db}.feed_actions \n",
    "WHERE toDate(time) between '2023-03-25' and '2023-03-31'\n",
    "    and exp_group in (2,3)\n",
    "GROUP BY exp_group, os\n",
    "\"\"\""
   ]
  },
  {
   "cell_type": "code",
   "execution_count": 19,
   "id": "8878f3f4",
   "metadata": {},
   "outputs": [],
   "source": [
    "df_os = pandahouse.read_clickhouse(q_os, connection=connection)"
   ]
  },
  {
   "cell_type": "code",
   "execution_count": 20,
   "id": "68f62368",
   "metadata": {},
   "outputs": [
    {
     "data": {
      "text/html": [
       "<div>\n",
       "<style scoped>\n",
       "    .dataframe tbody tr th:only-of-type {\n",
       "        vertical-align: middle;\n",
       "    }\n",
       "\n",
       "    .dataframe tbody tr th {\n",
       "        vertical-align: top;\n",
       "    }\n",
       "\n",
       "    .dataframe thead th {\n",
       "        text-align: right;\n",
       "    }\n",
       "</style>\n",
       "<table border=\"1\" class=\"dataframe\">\n",
       "  <thead>\n",
       "    <tr style=\"text-align: right;\">\n",
       "      <th></th>\n",
       "      <th>exp_group</th>\n",
       "      <th>os</th>\n",
       "      <th>users</th>\n",
       "    </tr>\n",
       "  </thead>\n",
       "  <tbody>\n",
       "    <tr>\n",
       "      <th>0</th>\n",
       "      <td>2</td>\n",
       "      <td>Android</td>\n",
       "      <td>5482</td>\n",
       "    </tr>\n",
       "    <tr>\n",
       "      <th>1</th>\n",
       "      <td>3</td>\n",
       "      <td>iOS</td>\n",
       "      <td>3077</td>\n",
       "    </tr>\n",
       "    <tr>\n",
       "      <th>2</th>\n",
       "      <td>3</td>\n",
       "      <td>Android</td>\n",
       "      <td>5492</td>\n",
       "    </tr>\n",
       "    <tr>\n",
       "      <th>3</th>\n",
       "      <td>2</td>\n",
       "      <td>iOS</td>\n",
       "      <td>2998</td>\n",
       "    </tr>\n",
       "  </tbody>\n",
       "</table>\n",
       "</div>"
      ],
      "text/plain": [
       "   exp_group       os  users\n",
       "0          2  Android   5482\n",
       "1          3      iOS   3077\n",
       "2          3  Android   5492\n",
       "3          2      iOS   2998"
      ]
     },
     "execution_count": 20,
     "metadata": {},
     "output_type": "execute_result"
    }
   ],
   "source": [
    "df_os.head()"
   ]
  },
  {
   "cell_type": "code",
   "execution_count": 21,
   "id": "6bf65d3a",
   "metadata": {},
   "outputs": [
    {
     "data": {
      "image/png": "[encoded data removed]",
      "text/plain": [
       "<Figure size 432x288 with 1 Axes>"
      ]
     },
     "metadata": {
      "needs_background": "light"
     },
     "output_type": "display_data"
    }
   ],
   "source": [
    "# Распределение пользователей по используемым платформам для двух групп.\n",
    "\n",
    "sns.barplot(data=df_os, x=\"users\", y=\"os\", hue=\"exp_group\", palette='Purples')\n",
    "sns.despine()\n",
    "plt.legend(bbox_to_anchor=(1.2, 0.97), title='exp group')\n",
    "plt.show()"
   ]
  },
  {
   "cell_type": "markdown",
   "id": "ef19f206",
   "metadata": {},
   "source": [
    "Можно сделать вывод, что в двух группах пользователи примерно одинаково распределены по платформам."
   ]
  },
  {
   "cell_type": "code",
   "execution_count": 22,
   "id": "8d2b49ee",
   "metadata": {},
   "outputs": [],
   "source": [
    "# Смотрю на данные в разрезе источника трафика: organic vs ads."
   ]
  },
  {
   "cell_type": "code",
   "execution_count": 23,
   "id": "d2b92bb9",
   "metadata": {},
   "outputs": [],
   "source": [
    "# Группирую данные с учетом источника трафика, считаю количество пользователей.\n",
    "\n",
    "q_source = \"\"\"\n",
    "SELECT exp_group, \n",
    "       source,\n",
    "       COUNT(distinct user_id) AS users  \n",
    "FROM {db}.feed_actions \n",
    "WHERE toDate(time) between '2023-03-25' and '2023-03-31'\n",
    "    and exp_group in (2,3)\n",
    "GROUP BY exp_group, source\n",
    "\"\"\""
   ]
  },
  {
   "cell_type": "code",
   "execution_count": 24,
   "id": "b8cee25d",
   "metadata": {},
   "outputs": [],
   "source": [
    "df_source = pandahouse.read_clickhouse(q_source, connection=connection)"
   ]
  },
  {
   "cell_type": "code",
   "execution_count": 25,
   "id": "47279b0b",
   "metadata": {},
   "outputs": [
    {
     "data": {
      "text/html": [
       "<div>\n",
       "<style scoped>\n",
       "    .dataframe tbody tr th:only-of-type {\n",
       "        vertical-align: middle;\n",
       "    }\n",
       "\n",
       "    .dataframe tbody tr th {\n",
       "        vertical-align: top;\n",
       "    }\n",
       "\n",
       "    .dataframe thead th {\n",
       "        text-align: right;\n",
       "    }\n",
       "</style>\n",
       "<table border=\"1\" class=\"dataframe\">\n",
       "  <thead>\n",
       "    <tr style=\"text-align: right;\">\n",
       "      <th></th>\n",
       "      <th>exp_group</th>\n",
       "      <th>source</th>\n",
       "      <th>users</th>\n",
       "    </tr>\n",
       "  </thead>\n",
       "  <tbody>\n",
       "    <tr>\n",
       "      <th>0</th>\n",
       "      <td>3</td>\n",
       "      <td>organic</td>\n",
       "      <td>4415</td>\n",
       "    </tr>\n",
       "    <tr>\n",
       "      <th>1</th>\n",
       "      <td>3</td>\n",
       "      <td>ads</td>\n",
       "      <td>4154</td>\n",
       "    </tr>\n",
       "    <tr>\n",
       "      <th>2</th>\n",
       "      <td>2</td>\n",
       "      <td>organic</td>\n",
       "      <td>4349</td>\n",
       "    </tr>\n",
       "    <tr>\n",
       "      <th>3</th>\n",
       "      <td>2</td>\n",
       "      <td>ads</td>\n",
       "      <td>4131</td>\n",
       "    </tr>\n",
       "  </tbody>\n",
       "</table>\n",
       "</div>"
      ],
      "text/plain": [
       "   exp_group   source  users\n",
       "0          3  organic   4415\n",
       "1          3      ads   4154\n",
       "2          2  organic   4349\n",
       "3          2      ads   4131"
      ]
     },
     "execution_count": 25,
     "metadata": {},
     "output_type": "execute_result"
    }
   ],
   "source": [
    "df_source"
   ]
  },
  {
   "cell_type": "code",
   "execution_count": 26,
   "id": "1390f1d2",
   "metadata": {},
   "outputs": [
    {
     "data": {
      "image/png": "[encoded data removed]",
      "text/plain": [
       "<Figure size 432x288 with 1 Axes>"
      ]
     },
     "metadata": {
      "needs_background": "light"
     },
     "output_type": "display_data"
    }
   ],
   "source": [
    "# Распределение пользователей по источнику трафика для двух групп.\n",
    "\n",
    "sns.barplot(data=df_source, x=\"users\", y=\"source\", hue=\"exp_group\", palette='Purples')\n",
    "sns.despine()\n",
    "plt.legend(bbox_to_anchor=(1.2, 0.97), title='exp group')\n",
    "plt.show()"
   ]
  },
  {
   "cell_type": "markdown",
   "id": "2933b957",
   "metadata": {},
   "source": [
    "Можно сделать вывод, что в двух группах пользователи примерно одинаково распределены по источнику трафика."
   ]
  },
  {
   "cell_type": "code",
   "execution_count": 27,
   "id": "f5a0e104",
   "metadata": {},
   "outputs": [],
   "source": [
    "# Смотрю на данные в разрезе гендера."
   ]
  },
  {
   "cell_type": "code",
   "execution_count": 28,
   "id": "5af4c0a3",
   "metadata": {},
   "outputs": [],
   "source": [
    "# Группирую данные с учетом гендера, считаю количество пользователей.\n",
    "\n",
    "q_gender = \"\"\"\n",
    "SELECT exp_group, \n",
    "       gender,\n",
    "       COUNT(distinct user_id) AS users  \n",
    "FROM {db}.feed_actions \n",
    "WHERE toDate(time) between '2023-03-25' and '2023-03-31'\n",
    "    and exp_group in (2,3)\n",
    "GROUP BY exp_group, gender\n",
    "\"\"\""
   ]
  },
  {
   "cell_type": "code",
   "execution_count": 29,
   "id": "8259211f",
   "metadata": {},
   "outputs": [],
   "source": [
    "df_gender = pandahouse.read_clickhouse(q_gender, connection=connection)"
   ]
  },
  {
   "cell_type": "code",
   "execution_count": 30,
   "id": "ccbebe90",
   "metadata": {},
   "outputs": [
    {
     "data": {
      "text/html": [
       "<div>\n",
       "<style scoped>\n",
       "    .dataframe tbody tr th:only-of-type {\n",
       "        vertical-align: middle;\n",
       "    }\n",
       "\n",
       "    .dataframe tbody tr th {\n",
       "        vertical-align: top;\n",
       "    }\n",
       "\n",
       "    .dataframe thead th {\n",
       "        text-align: right;\n",
       "    }\n",
       "</style>\n",
       "<table border=\"1\" class=\"dataframe\">\n",
       "  <thead>\n",
       "    <tr style=\"text-align: right;\">\n",
       "      <th></th>\n",
       "      <th>exp_group</th>\n",
       "      <th>gender</th>\n",
       "      <th>users</th>\n",
       "    </tr>\n",
       "  </thead>\n",
       "  <tbody>\n",
       "    <tr>\n",
       "      <th>0</th>\n",
       "      <td>2</td>\n",
       "      <td>0</td>\n",
       "      <td>3675</td>\n",
       "    </tr>\n",
       "    <tr>\n",
       "      <th>1</th>\n",
       "      <td>3</td>\n",
       "      <td>0</td>\n",
       "      <td>3912</td>\n",
       "    </tr>\n",
       "    <tr>\n",
       "      <th>2</th>\n",
       "      <td>2</td>\n",
       "      <td>1</td>\n",
       "      <td>4805</td>\n",
       "    </tr>\n",
       "    <tr>\n",
       "      <th>3</th>\n",
       "      <td>3</td>\n",
       "      <td>1</td>\n",
       "      <td>4657</td>\n",
       "    </tr>\n",
       "  </tbody>\n",
       "</table>\n",
       "</div>"
      ],
      "text/plain": [
       "   exp_group  gender  users\n",
       "0          2       0   3675\n",
       "1          3       0   3912\n",
       "2          2       1   4805\n",
       "3          3       1   4657"
      ]
     },
     "execution_count": 30,
     "metadata": {},
     "output_type": "execute_result"
    }
   ],
   "source": [
    "df_gender"
   ]
  },
  {
   "cell_type": "code",
   "execution_count": 31,
   "id": "ea3cef3b",
   "metadata": {},
   "outputs": [
    {
     "data": {
      "text/plain": [
       "exp_group      int8\n",
       "gender         int8\n",
       "users        uint64\n",
       "dtype: object"
      ]
     },
     "execution_count": 31,
     "metadata": {},
     "output_type": "execute_result"
    }
   ],
   "source": [
    "df_gender.dtypes"
   ]
  },
  {
   "cell_type": "code",
   "execution_count": 32,
   "id": "8648af1d",
   "metadata": {},
   "outputs": [],
   "source": [
    "df_gender.gender = df_gender.gender.astype(str)"
   ]
  },
  {
   "cell_type": "code",
   "execution_count": 33,
   "id": "c6e445a8",
   "metadata": {},
   "outputs": [
    {
     "data": {
      "image/png": "[encoded data removed]",
      "text/plain": [
       "<Figure size 432x288 with 1 Axes>"
      ]
     },
     "metadata": {
      "needs_background": "light"
     },
     "output_type": "display_data"
    }
   ],
   "source": [
    "# Распределение пользователей по гендеру для двух групп.\n",
    "\n",
    "sns.barplot(data=df_gender, x=\"users\", y=\"gender\", hue=\"exp_group\", palette = 'Purples')\n",
    "sns.despine()\n",
    "plt.legend(bbox_to_anchor=(1.2, 0.97), title='exp group')\n",
    "plt.show()"
   ]
  },
  {
   "cell_type": "markdown",
   "id": "70dc35bb",
   "metadata": {},
   "source": [
    "Можно сделать вывод, что в двух группах пользователи разных гендеров представлены примерно одинаково."
   ]
  },
  {
   "cell_type": "markdown",
   "id": "67e617e2",
   "metadata": {},
   "source": [
    "#### 3. АА-тест"
   ]
  },
  {
   "cell_type": "code",
   "execution_count": 34,
   "id": "32da3b8e",
   "metadata": {},
   "outputs": [
    {
     "data": {
      "image/png": "[encoded data removed]",
      "text/plain": [
       "<Figure size 1080x720 with 1 Axes>"
      ]
     },
     "metadata": {
      "needs_background": "light"
     },
     "output_type": "display_data"
    }
   ],
   "source": [
    "# Распределение метрики CTR для двух групп.\n",
    "\n",
    "plt.figure(figsize=(15, 10))\n",
    "\n",
    "sns.histplot(data = df, x = 'ctr', hue = 'exp_group', palette = 'Purples')\n",
    "sns.despine()\n",
    "plt.show()"
   ]
  },
  {
   "cell_type": "markdown",
   "id": "e8e1ee05",
   "metadata": {},
   "source": [
    "Из графика видно, что распределение унимодально и в целом симметрично - метрика стремится к нормальному распределению."
   ]
  },
  {
   "cell_type": "code",
   "execution_count": 35,
   "id": "3fad4641",
   "metadata": {},
   "outputs": [],
   "source": [
    "# Симуляция 10000 АА-тестов."
   ]
  },
  {
   "cell_type": "code",
   "execution_count": 119,
   "id": "4ad6b69e",
   "metadata": {},
   "outputs": [],
   "source": [
    "# Объявляю функции для симуляции АА-тестов.\n",
    "\n",
    "def aa_test(group1, group2, n=10000):\n",
    "    pvalues = []\n",
    "    for i in range(n):\n",
    "        pvalues.append(stats.ttest_ind(group1.sample(500, replace=False), group2.sample(500, replace=False))[1])\n",
    "    pvalues = pd.Series(pvalues)\n",
    "    \n",
    "    reject_bh, p_corrected_vh, a1, a2 = multipletests(pvalue, alpha = 0.05, method = 'fdr_bh')\n",
    "    p_corrected_vh = pd.Series(p_corrected_vh)\n",
    "    \n",
    "    FPR = pvalues[pvalues<0.05].count() / pvalues.shape[0] * 100\n",
    "    \n",
    "    FPRadjusted = p_corrected_vh[p_corrected_vh<0.05].count() / p_corrected_vh.shape[0] * 100\n",
    "\n",
    "    sns.histplot(pvalues, bins=100, color='purple')\n",
    "    sns.despine()\n",
    "    plt.title(\"Histogram of ttest AA simulations \")\n",
    "    plt.xlabel('pvalues')\n",
    "    plt.ylabel('frequency')\n",
    "    plt.show()\n",
    "    \n",
    "    if FPR >=5:\n",
    "        print(f'Alarm, there are some problems, FPR = {FPR}.')\n",
    "    else:\n",
    "        print(f'FPR = {FPR}, split system works correctly.')\n",
    "        \n",
    "    if FPRadjusted >=5:\n",
    "        print(f'Alarm, there are some problems, FPRadjusted = {FPRadjusted}.')\n",
    "    else:\n",
    "        print(f'FPRadjusted = {FPRadjusted}, split system works correctly.')\n",
    "    "
   ]
  },
  {
   "cell_type": "code",
   "execution_count": 120,
   "id": "5a9894cc",
   "metadata": {},
   "outputs": [
    {
     "data": {
      "image/png": "[encoded data removed]",
      "text/plain": [
       "<Figure size 432x288 with 1 Axes>"
      ]
     },
     "metadata": {
      "needs_background": "light"
     },
     "output_type": "display_data"
    },
    {
     "name": "stdout",
     "output_type": "stream",
     "text": [
      "FPR = 4.71, split system works correctly.\n",
      "FPRadjusted = 0.0, split system works correctly.\n"
     ]
    }
   ],
   "source": [
    "aa_test(df[df.exp_group==2].ctr, df[df.exp_group==3].ctr)"
   ]
  },
  {
   "cell_type": "markdown",
   "id": "1f041765",
   "metadata": {},
   "source": [
    "#### Вывод\n",
    "\n",
    "Статистически значимые различия между двумя группами встречаются только в результате случайного ложного срабатывания - FPR меньше 5% случаев -> сплит-система работает корректно."
   ]
  },
  {
   "cell_type": "code",
   "execution_count": null,
   "id": "e2dda540",
   "metadata": {},
   "outputs": [],
   "source": []
  }
 ],
 "metadata": {
  "kernelspec": {
   "display_name": "Python 3 (ipykernel)",
   "language": "python",
   "name": "python3"
  },
  "language_info": {
   "codemirror_mode": {
    "name": "ipython",
    "version": 3
   },
   "file_extension": ".py",
   "mimetype": "text/x-python",
   "name": "python",
   "nbconvert_exporter": "python",
   "pygments_lexer": "ipython3",
   "version": "3.10.6"
  }
 },
 "nbformat": 4,
 "nbformat_minor": 5
}
