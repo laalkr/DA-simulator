{
 "cells": [
  {
   "cell_type": "markdown",
   "id": "4b47a01a",
   "metadata": {},
   "source": [
    "Задача\n",
    "\n",
    "1. Проанализируйте тест между группами 0 и 3 по метрике линеаризованных лайков. Видно ли отличие? Стало ли 𝑝−𝑣𝑎𝑙𝑢𝑒 меньше?\n",
    "2. Проанализируйте тест между группами 1 и 2 по метрике линеаризованных лайков. Видно ли отличие? Стало ли 𝑝−𝑣𝑎𝑙𝑢𝑒 меньше?"
   ]
  },
  {
   "cell_type": "code",
   "execution_count": 1,
   "id": "42514372",
   "metadata": {},
   "outputs": [],
   "source": [
    "# Загружаю необходимые библиотеки.\n",
    "\n",
    "import pandas as pd\n",
    "\n",
    "import seaborn as sns\n",
    "import matplotlib.pyplot as plt\n",
    "%matplotlib inline\n",
    "\n",
    "import pandahouse\n",
    "\n",
    "from scipy import stats"
   ]
  },
  {
   "cell_type": "code",
   "execution_count": 2,
   "id": "7926cd21",
   "metadata": {},
   "outputs": [],
   "source": [
    "# Соединение.\n",
    "\n",
    "connection = {\n",
    "    'host': 'https://clickhouse.lab.karpov.courses',\n",
    "    'password': 'dpo_python_2020',\n",
    "    'user': 'student',\n",
    "    'database': 'simulator_20230420'\n",
    "}"
   ]
  },
  {
   "cell_type": "code",
   "execution_count": 3,
   "id": "60b6919e",
   "metadata": {},
   "outputs": [],
   "source": [
    "# Считаю количество лайков и просмотров на юзера, ctr (с фильтрацией по датам экспериментов).\n",
    "\n",
    "q = \"\"\"\n",
    "SELECT exp_group, \n",
    "    user_id,\n",
    "    sum(action = 'like') as likes,\n",
    "    sum(action = 'view') as views,\n",
    "    likes/views as ctr\n",
    "FROM {db}.feed_actions \n",
    "WHERE toDate(time) between '2023-04-01' and '2023-04-07'\n",
    "GROUP BY exp_group, user_id\n",
    "\"\"\""
   ]
  },
  {
   "cell_type": "code",
   "execution_count": 4,
   "id": "dc1b0343",
   "metadata": {},
   "outputs": [],
   "source": [
    "# Выгружаю данные в пандовский датафрейм.\n",
    "\n",
    "df = pandahouse.read_clickhouse(q, connection=connection)"
   ]
  },
  {
   "cell_type": "code",
   "execution_count": 5,
   "id": "0312ea51",
   "metadata": {},
   "outputs": [
    {
     "data": {
      "text/html": [
       "<div>\n",
       "<style scoped>\n",
       "    .dataframe tbody tr th:only-of-type {\n",
       "        vertical-align: middle;\n",
       "    }\n",
       "\n",
       "    .dataframe tbody tr th {\n",
       "        vertical-align: top;\n",
       "    }\n",
       "\n",
       "    .dataframe thead th {\n",
       "        text-align: right;\n",
       "    }\n",
       "</style>\n",
       "<table border=\"1\" class=\"dataframe\">\n",
       "  <thead>\n",
       "    <tr style=\"text-align: right;\">\n",
       "      <th></th>\n",
       "      <th>exp_group</th>\n",
       "      <th>user_id</th>\n",
       "      <th>likes</th>\n",
       "      <th>views</th>\n",
       "      <th>ctr</th>\n",
       "    </tr>\n",
       "  </thead>\n",
       "  <tbody>\n",
       "    <tr>\n",
       "      <th>0</th>\n",
       "      <td>3</td>\n",
       "      <td>115383</td>\n",
       "      <td>9</td>\n",
       "      <td>30</td>\n",
       "      <td>0.300000</td>\n",
       "    </tr>\n",
       "    <tr>\n",
       "      <th>1</th>\n",
       "      <td>1</td>\n",
       "      <td>18392</td>\n",
       "      <td>7</td>\n",
       "      <td>32</td>\n",
       "      <td>0.218750</td>\n",
       "    </tr>\n",
       "    <tr>\n",
       "      <th>2</th>\n",
       "      <td>3</td>\n",
       "      <td>123580</td>\n",
       "      <td>13</td>\n",
       "      <td>48</td>\n",
       "      <td>0.270833</td>\n",
       "    </tr>\n",
       "    <tr>\n",
       "      <th>3</th>\n",
       "      <td>2</td>\n",
       "      <td>131473</td>\n",
       "      <td>14</td>\n",
       "      <td>134</td>\n",
       "      <td>0.104478</td>\n",
       "    </tr>\n",
       "    <tr>\n",
       "      <th>4</th>\n",
       "      <td>4</td>\n",
       "      <td>107323</td>\n",
       "      <td>5</td>\n",
       "      <td>31</td>\n",
       "      <td>0.161290</td>\n",
       "    </tr>\n",
       "  </tbody>\n",
       "</table>\n",
       "</div>"
      ],
      "text/plain": [
       "   exp_group  user_id  likes  views       ctr\n",
       "0          3   115383      9     30  0.300000\n",
       "1          1    18392      7     32  0.218750\n",
       "2          3   123580     13     48  0.270833\n",
       "3          2   131473     14    134  0.104478\n",
       "4          4   107323      5     31  0.161290"
      ]
     },
     "execution_count": 5,
     "metadata": {},
     "output_type": "execute_result"
    }
   ],
   "source": [
    "df.head()"
   ]
  },
  {
   "cell_type": "markdown",
   "id": "b6ea6d86",
   "metadata": {},
   "source": [
    "#### 1. А/Б тест между группами 0 и 3 по метрике линеаризованных лайков."
   ]
  },
  {
   "cell_type": "code",
   "execution_count": 6,
   "id": "2b67c7a3",
   "metadata": {},
   "outputs": [],
   "source": [
    "# Перезаписываю данные для групп 0 и 3 в отдельный датафрейм.\n",
    "\n",
    "df_03 = df[(df.exp_group == 0) | (df.exp_group == 3)]"
   ]
  },
  {
   "cell_type": "code",
   "execution_count": 7,
   "id": "ab6a3e8b",
   "metadata": {},
   "outputs": [
    {
     "data": {
      "text/html": [
       "<div>\n",
       "<style scoped>\n",
       "    .dataframe tbody tr th:only-of-type {\n",
       "        vertical-align: middle;\n",
       "    }\n",
       "\n",
       "    .dataframe tbody tr th {\n",
       "        vertical-align: top;\n",
       "    }\n",
       "\n",
       "    .dataframe thead th {\n",
       "        text-align: right;\n",
       "    }\n",
       "</style>\n",
       "<table border=\"1\" class=\"dataframe\">\n",
       "  <thead>\n",
       "    <tr style=\"text-align: right;\">\n",
       "      <th></th>\n",
       "      <th>exp_group</th>\n",
       "      <th>user_id</th>\n",
       "      <th>likes</th>\n",
       "      <th>views</th>\n",
       "      <th>ctr</th>\n",
       "    </tr>\n",
       "  </thead>\n",
       "  <tbody>\n",
       "    <tr>\n",
       "      <th>0</th>\n",
       "      <td>3</td>\n",
       "      <td>115383</td>\n",
       "      <td>9</td>\n",
       "      <td>30</td>\n",
       "      <td>0.300000</td>\n",
       "    </tr>\n",
       "    <tr>\n",
       "      <th>2</th>\n",
       "      <td>3</td>\n",
       "      <td>123580</td>\n",
       "      <td>13</td>\n",
       "      <td>48</td>\n",
       "      <td>0.270833</td>\n",
       "    </tr>\n",
       "    <tr>\n",
       "      <th>7</th>\n",
       "      <td>0</td>\n",
       "      <td>30319</td>\n",
       "      <td>21</td>\n",
       "      <td>110</td>\n",
       "      <td>0.190909</td>\n",
       "    </tr>\n",
       "    <tr>\n",
       "      <th>9</th>\n",
       "      <td>3</td>\n",
       "      <td>118359</td>\n",
       "      <td>7</td>\n",
       "      <td>38</td>\n",
       "      <td>0.184211</td>\n",
       "    </tr>\n",
       "    <tr>\n",
       "      <th>11</th>\n",
       "      <td>0</td>\n",
       "      <td>7626</td>\n",
       "      <td>14</td>\n",
       "      <td>39</td>\n",
       "      <td>0.358974</td>\n",
       "    </tr>\n",
       "  </tbody>\n",
       "</table>\n",
       "</div>"
      ],
      "text/plain": [
       "    exp_group  user_id  likes  views       ctr\n",
       "0           3   115383      9     30  0.300000\n",
       "2           3   123580     13     48  0.270833\n",
       "7           0    30319     21    110  0.190909\n",
       "9           3   118359      7     38  0.184211\n",
       "11          0     7626     14     39  0.358974"
      ]
     },
     "execution_count": 7,
     "metadata": {},
     "output_type": "execute_result"
    }
   ],
   "source": [
    "df_03.head()"
   ]
  },
  {
   "cell_type": "code",
   "execution_count": 8,
   "id": "84e31ec6",
   "metadata": {},
   "outputs": [
    {
     "data": {
      "text/html": [
       "<div>\n",
       "<style scoped>\n",
       "    .dataframe tbody tr th:only-of-type {\n",
       "        vertical-align: middle;\n",
       "    }\n",
       "\n",
       "    .dataframe tbody tr th {\n",
       "        vertical-align: top;\n",
       "    }\n",
       "\n",
       "    .dataframe thead th {\n",
       "        text-align: right;\n",
       "    }\n",
       "</style>\n",
       "<table border=\"1\" class=\"dataframe\">\n",
       "  <thead>\n",
       "    <tr style=\"text-align: right;\">\n",
       "      <th></th>\n",
       "      <th>exp_group</th>\n",
       "      <th>user_count</th>\n",
       "    </tr>\n",
       "  </thead>\n",
       "  <tbody>\n",
       "    <tr>\n",
       "      <th>0</th>\n",
       "      <td>0</td>\n",
       "      <td>9999</td>\n",
       "    </tr>\n",
       "    <tr>\n",
       "      <th>1</th>\n",
       "      <td>3</td>\n",
       "      <td>10049</td>\n",
       "    </tr>\n",
       "  </tbody>\n",
       "</table>\n",
       "</div>"
      ],
      "text/plain": [
       "   exp_group  user_count\n",
       "0          0        9999\n",
       "1          3       10049"
      ]
     },
     "execution_count": 8,
     "metadata": {},
     "output_type": "execute_result"
    }
   ],
   "source": [
    "# Проверяю, сколько пользователей попало в каждую группу.\n",
    "\n",
    "df_03 \\\n",
    "    .groupby('exp_group', as_index=False) \\\n",
    "    .user_id.count() \\\n",
    "    .rename(columns={'user_id':'user_count'})"
   ]
  },
  {
   "cell_type": "markdown",
   "id": "ac031e12",
   "metadata": {},
   "source": [
    "Для сырых данных."
   ]
  },
  {
   "cell_type": "code",
   "execution_count": 9,
   "id": "7acc91b9",
   "metadata": {},
   "outputs": [
    {
     "data": {
      "image/png": "[encoded data removed]",
      "text/plain": [
       "<Figure size 1080x720 with 1 Axes>"
      ]
     },
     "metadata": {
      "needs_background": "light"
     },
     "output_type": "display_data"
    }
   ],
   "source": [
    "# Распределение метрики CTR для двух групп.\n",
    "\n",
    "plt.figure(figsize=(15, 10))\n",
    "\n",
    "sns.histplot(data=df_03, x='ctr', hue='exp_group', palette='Purples')\n",
    "sns.despine()\n",
    "plt.show()"
   ]
  },
  {
   "cell_type": "code",
   "execution_count": 10,
   "id": "765eaeff",
   "metadata": {},
   "outputs": [
    {
     "name": "stdout",
     "output_type": "stream",
     "text": [
      "p-value = 1.055849414662529e-43, \n",
      "при α = 0.05 были обнаружены статистически значимые различия средних значений двух групп.\n"
     ]
    }
   ],
   "source": [
    "# t-test на сырых значениях ctr.\n",
    "# H0: μ0 = μ3\n",
    "# H1: μ0 != μ3\n",
    "\n",
    "stat, p = stats.ttest_ind(df_03[df_03.exp_group == 0].ctr, df_03[df_03.exp_group == 3].ctr, equal_var=False)\n",
    "\n",
    "if p >= 0.05:\n",
    "    print(f'p-value = {p}, \\nпри α = 0.05 мы не можем отклонить H0 о равенстве средних значений.')\n",
    "else:\n",
    "    print(f'p-value = {p}, \\nпри α = 0.05 были обнаружены статистически значимые различия средних значений двух групп.')"
   ]
  },
  {
   "cell_type": "markdown",
   "id": "b1310444",
   "metadata": {},
   "source": [
    "Линеаризованные лайки."
   ]
  },
  {
   "cell_type": "code",
   "execution_count": 11,
   "id": "522f7ae3",
   "metadata": {},
   "outputs": [
    {
     "data": {
      "text/plain": [
       "0.20823612262916305"
      ]
     },
     "execution_count": 11,
     "metadata": {},
     "output_type": "execute_result"
    }
   ],
   "source": [
    "# Считаю общий CTR в контрольной группе (контрольная группа - 0).\n",
    "\n",
    "ctr_control = df[df.exp_group == 0].likes.sum() / df[df.exp_group == 0].views.sum()\n",
    "\n",
    "ctr_control"
   ]
  },
  {
   "cell_type": "code",
   "execution_count": 12,
   "id": "7ce3e4c0",
   "metadata": {},
   "outputs": [],
   "source": [
    "# Считаю линеаризованные лайки.\n",
    "\n",
    "df_03 = df_03.assign(lin_likes=df_03.apply(lambda x: x.likes - ctr_control * x.views, 1))"
   ]
  },
  {
   "cell_type": "code",
   "execution_count": 13,
   "id": "af1aef8d",
   "metadata": {},
   "outputs": [
    {
     "data": {
      "text/html": [
       "<div>\n",
       "<style scoped>\n",
       "    .dataframe tbody tr th:only-of-type {\n",
       "        vertical-align: middle;\n",
       "    }\n",
       "\n",
       "    .dataframe tbody tr th {\n",
       "        vertical-align: top;\n",
       "    }\n",
       "\n",
       "    .dataframe thead th {\n",
       "        text-align: right;\n",
       "    }\n",
       "</style>\n",
       "<table border=\"1\" class=\"dataframe\">\n",
       "  <thead>\n",
       "    <tr style=\"text-align: right;\">\n",
       "      <th></th>\n",
       "      <th>exp_group</th>\n",
       "      <th>user_id</th>\n",
       "      <th>likes</th>\n",
       "      <th>views</th>\n",
       "      <th>ctr</th>\n",
       "      <th>lin_likes</th>\n",
       "    </tr>\n",
       "  </thead>\n",
       "  <tbody>\n",
       "    <tr>\n",
       "      <th>0</th>\n",
       "      <td>3</td>\n",
       "      <td>115383</td>\n",
       "      <td>9</td>\n",
       "      <td>30</td>\n",
       "      <td>0.300000</td>\n",
       "      <td>2.752916</td>\n",
       "    </tr>\n",
       "    <tr>\n",
       "      <th>2</th>\n",
       "      <td>3</td>\n",
       "      <td>123580</td>\n",
       "      <td>13</td>\n",
       "      <td>48</td>\n",
       "      <td>0.270833</td>\n",
       "      <td>3.004666</td>\n",
       "    </tr>\n",
       "    <tr>\n",
       "      <th>7</th>\n",
       "      <td>0</td>\n",
       "      <td>30319</td>\n",
       "      <td>21</td>\n",
       "      <td>110</td>\n",
       "      <td>0.190909</td>\n",
       "      <td>-1.905973</td>\n",
       "    </tr>\n",
       "    <tr>\n",
       "      <th>9</th>\n",
       "      <td>3</td>\n",
       "      <td>118359</td>\n",
       "      <td>7</td>\n",
       "      <td>38</td>\n",
       "      <td>0.184211</td>\n",
       "      <td>-0.912973</td>\n",
       "    </tr>\n",
       "    <tr>\n",
       "      <th>11</th>\n",
       "      <td>0</td>\n",
       "      <td>7626</td>\n",
       "      <td>14</td>\n",
       "      <td>39</td>\n",
       "      <td>0.358974</td>\n",
       "      <td>5.878791</td>\n",
       "    </tr>\n",
       "  </tbody>\n",
       "</table>\n",
       "</div>"
      ],
      "text/plain": [
       "    exp_group  user_id  likes  views       ctr  lin_likes\n",
       "0           3   115383      9     30  0.300000   2.752916\n",
       "2           3   123580     13     48  0.270833   3.004666\n",
       "7           0    30319     21    110  0.190909  -1.905973\n",
       "9           3   118359      7     38  0.184211  -0.912973\n",
       "11          0     7626     14     39  0.358974   5.878791"
      ]
     },
     "execution_count": 13,
     "metadata": {},
     "output_type": "execute_result"
    }
   ],
   "source": [
    "df_03.head()"
   ]
  },
  {
   "cell_type": "code",
   "execution_count": 14,
   "id": "1544be27",
   "metadata": {},
   "outputs": [
    {
     "data": {
      "image/png": "[encoded data removed]",
      "text/plain": [
       "<Figure size 1080x720 with 1 Axes>"
      ]
     },
     "metadata": {
      "needs_background": "light"
     },
     "output_type": "display_data"
    }
   ],
   "source": [
    "# Распределение метрики линеаризованных лайков для двух групп.\n",
    "\n",
    "plt.figure(figsize=(15, 10))\n",
    "\n",
    "sns.histplot(data=df_03, x='lin_likes', hue='exp_group', palette='Purples')\n",
    "sns.despine()\n",
    "plt.show()"
   ]
  },
  {
   "cell_type": "code",
   "execution_count": 15,
   "id": "ef137015",
   "metadata": {},
   "outputs": [
    {
     "name": "stdout",
     "output_type": "stream",
     "text": [
      "p-value = 5.4914249479690016e-52, \n",
      "при α = 0.05 были обнаружены статистически значимые различия средних значений двух групп.\n"
     ]
    }
   ],
   "source": [
    "# t-test на метрике линеаризованных лайков.\n",
    "# H0: μ0 = μ3\n",
    "# H1: μ0 != μ3\n",
    "\n",
    "stat, p = stats.ttest_ind(df_03[df_03.exp_group == 0].lin_likes, df_03[df_03.exp_group == 3].lin_likes, equal_var=False)\n",
    "\n",
    "if p >= 0.05:\n",
    "    print(f'p-value = {p}, \\nпри α = 0.05 мы не можем отклонить H0 о равенстве средних значений.')\n",
    "else:\n",
    "    print(f'p-value = {p}, \\nпри α = 0.05 были обнаружены статистически значимые различия средних значений двух групп.')"
   ]
  },
  {
   "cell_type": "markdown",
   "id": "c53a665b",
   "metadata": {},
   "source": [
    "#### 1. А/Б тест между группами 1 и 2 по метрике линеаризованных лайков."
   ]
  },
  {
   "cell_type": "code",
   "execution_count": 16,
   "id": "a9b3eb22",
   "metadata": {},
   "outputs": [],
   "source": [
    "# Перезаписываю данные для групп 1 и 2 в отдельный датафрейм.\n",
    "\n",
    "df_12 = df[(df.exp_group == 1) | (df.exp_group == 2)]"
   ]
  },
  {
   "cell_type": "code",
   "execution_count": 17,
   "id": "edd16764",
   "metadata": {},
   "outputs": [
    {
     "data": {
      "text/html": [
       "<div>\n",
       "<style scoped>\n",
       "    .dataframe tbody tr th:only-of-type {\n",
       "        vertical-align: middle;\n",
       "    }\n",
       "\n",
       "    .dataframe tbody tr th {\n",
       "        vertical-align: top;\n",
       "    }\n",
       "\n",
       "    .dataframe thead th {\n",
       "        text-align: right;\n",
       "    }\n",
       "</style>\n",
       "<table border=\"1\" class=\"dataframe\">\n",
       "  <thead>\n",
       "    <tr style=\"text-align: right;\">\n",
       "      <th></th>\n",
       "      <th>exp_group</th>\n",
       "      <th>user_id</th>\n",
       "      <th>likes</th>\n",
       "      <th>views</th>\n",
       "      <th>ctr</th>\n",
       "    </tr>\n",
       "  </thead>\n",
       "  <tbody>\n",
       "    <tr>\n",
       "      <th>1</th>\n",
       "      <td>1</td>\n",
       "      <td>18392</td>\n",
       "      <td>7</td>\n",
       "      <td>32</td>\n",
       "      <td>0.218750</td>\n",
       "    </tr>\n",
       "    <tr>\n",
       "      <th>3</th>\n",
       "      <td>2</td>\n",
       "      <td>131473</td>\n",
       "      <td>14</td>\n",
       "      <td>134</td>\n",
       "      <td>0.104478</td>\n",
       "    </tr>\n",
       "    <tr>\n",
       "      <th>5</th>\n",
       "      <td>2</td>\n",
       "      <td>32420</td>\n",
       "      <td>26</td>\n",
       "      <td>128</td>\n",
       "      <td>0.203125</td>\n",
       "    </tr>\n",
       "    <tr>\n",
       "      <th>6</th>\n",
       "      <td>2</td>\n",
       "      <td>24239</td>\n",
       "      <td>40</td>\n",
       "      <td>90</td>\n",
       "      <td>0.444444</td>\n",
       "    </tr>\n",
       "    <tr>\n",
       "      <th>8</th>\n",
       "      <td>1</td>\n",
       "      <td>27443</td>\n",
       "      <td>2</td>\n",
       "      <td>29</td>\n",
       "      <td>0.068966</td>\n",
       "    </tr>\n",
       "  </tbody>\n",
       "</table>\n",
       "</div>"
      ],
      "text/plain": [
       "   exp_group  user_id  likes  views       ctr\n",
       "1          1    18392      7     32  0.218750\n",
       "3          2   131473     14    134  0.104478\n",
       "5          2    32420     26    128  0.203125\n",
       "6          2    24239     40     90  0.444444\n",
       "8          1    27443      2     29  0.068966"
      ]
     },
     "execution_count": 17,
     "metadata": {},
     "output_type": "execute_result"
    }
   ],
   "source": [
    "df_12.head()"
   ]
  },
  {
   "cell_type": "code",
   "execution_count": 18,
   "id": "9d1f28b2",
   "metadata": {},
   "outputs": [
    {
     "data": {
      "text/html": [
       "<div>\n",
       "<style scoped>\n",
       "    .dataframe tbody tr th:only-of-type {\n",
       "        vertical-align: middle;\n",
       "    }\n",
       "\n",
       "    .dataframe tbody tr th {\n",
       "        vertical-align: top;\n",
       "    }\n",
       "\n",
       "    .dataframe thead th {\n",
       "        text-align: right;\n",
       "    }\n",
       "</style>\n",
       "<table border=\"1\" class=\"dataframe\">\n",
       "  <thead>\n",
       "    <tr style=\"text-align: right;\">\n",
       "      <th></th>\n",
       "      <th>exp_group</th>\n",
       "      <th>user_count</th>\n",
       "    </tr>\n",
       "  </thead>\n",
       "  <tbody>\n",
       "    <tr>\n",
       "      <th>0</th>\n",
       "      <td>1</td>\n",
       "      <td>10079</td>\n",
       "    </tr>\n",
       "    <tr>\n",
       "      <th>1</th>\n",
       "      <td>2</td>\n",
       "      <td>9952</td>\n",
       "    </tr>\n",
       "  </tbody>\n",
       "</table>\n",
       "</div>"
      ],
      "text/plain": [
       "   exp_group  user_count\n",
       "0          1       10079\n",
       "1          2        9952"
      ]
     },
     "execution_count": 18,
     "metadata": {},
     "output_type": "execute_result"
    }
   ],
   "source": [
    "# Проверяю, сколько пользователей попало в каждую группу.\n",
    "\n",
    "df_12 \\\n",
    "    .groupby('exp_group', as_index=False) \\\n",
    "    .user_id.count() \\\n",
    "    .rename(columns={'user_id': 'user_count'})"
   ]
  },
  {
   "cell_type": "code",
   "execution_count": 19,
   "id": "7a3332d2",
   "metadata": {},
   "outputs": [
    {
     "data": {
      "image/png": "[encoded data removed]",
      "text/plain": [
       "<Figure size 1080x720 with 1 Axes>"
      ]
     },
     "metadata": {
      "needs_background": "light"
     },
     "output_type": "display_data"
    }
   ],
   "source": [
    "# Распределение метрики CTR для двух групп.\n",
    "\n",
    "plt.figure(figsize=(15, 10))\n",
    "\n",
    "sns.histplot(data=df_12, x='ctr', hue='exp_group', palette='Purples')\n",
    "sns.despine()\n",
    "plt.show()"
   ]
  },
  {
   "cell_type": "markdown",
   "id": "5205f21f",
   "metadata": {},
   "source": [
    "Распределение метрики ctr у группы 2 бимодальное - отчетливо видны два пика(моды), а также длинный правый хвост. Распределение метрики ctr у группы 1 нормальное - распределение имеет 1 моду и является симметричным. \n",
    "\n",
    "Подобное распределение у группы 1 может быть связано со следующим:\n",
    "1. Для группы 2 характерен более длинный правый хвост - большее количество людей ставило более 60 лайков. \n",
    "2. Также в группе 2 было больше пользователей, которые поставили около 5 лайков в сравнении с группой 1."
   ]
  },
  {
   "cell_type": "code",
   "execution_count": 20,
   "id": "9ba837eb",
   "metadata": {},
   "outputs": [
    {
     "name": "stdout",
     "output_type": "stream",
     "text": [
      "p-value = 0.4780623130874935, \n",
      "при α = 0.05 мы не можем отклонить H0 о равенстве средних значений.\n"
     ]
    }
   ],
   "source": [
    "# t-test на сырых значениях ctr.\n",
    "# H0: μ1 = μ2\n",
    "# H1: μ1 != μ2\n",
    "\n",
    "stat, p = stats.ttest_ind(df_12[df_12.exp_group == 1].ctr, df_12[df_12.exp_group == 2].ctr, equal_var=False)\n",
    "\n",
    "if p >= 0.05:\n",
    "    print(f'p-value = {p}, \\nпри α = 0.05 мы не можем отклонить H0 о равенстве средних значений.')\n",
    "else:\n",
    "    print(f'p-value = {p}, \\nпри α = 0.05 были обнаружены статистически значимые различия средних значений двух групп.')"
   ]
  },
  {
   "cell_type": "markdown",
   "id": "587fa10a",
   "metadata": {},
   "source": [
    "Я бы не стала опираться на результаты t-testa с выборками, одна из которых(группа 2) имеет явное бимодальное распределение, длинный правый хвост и большой разброс значений(дисперсия тоже будет большой) -> смещенная оценка среднего значения. "
   ]
  },
  {
   "cell_type": "markdown",
   "id": "ec587da3",
   "metadata": {},
   "source": [
    "Линеаризованные лайки."
   ]
  },
  {
   "cell_type": "code",
   "execution_count": 21,
   "id": "a679070e",
   "metadata": {},
   "outputs": [
    {
     "data": {
      "text/plain": [
       "0.20802680490126244"
      ]
     },
     "execution_count": 21,
     "metadata": {},
     "output_type": "execute_result"
    }
   ],
   "source": [
    "# Считаю общий CTR в контрольной группе (контрольная группа - 1).\n",
    "\n",
    "ctr_control = df[df.exp_group == 1].likes.sum() / df[df.exp_group == 1].views.sum()\n",
    "\n",
    "ctr_control"
   ]
  },
  {
   "cell_type": "code",
   "execution_count": 22,
   "id": "ad374635",
   "metadata": {},
   "outputs": [],
   "source": [
    "# Считаю линеаризованные лайки.\n",
    "\n",
    "df_12 = df_12.assign(lin_likes = df_12.apply(lambda x: x.likes - ctr_control * x.views, 1))"
   ]
  },
  {
   "cell_type": "code",
   "execution_count": 23,
   "id": "faf1323b",
   "metadata": {},
   "outputs": [
    {
     "data": {
      "text/html": [
       "<div>\n",
       "<style scoped>\n",
       "    .dataframe tbody tr th:only-of-type {\n",
       "        vertical-align: middle;\n",
       "    }\n",
       "\n",
       "    .dataframe tbody tr th {\n",
       "        vertical-align: top;\n",
       "    }\n",
       "\n",
       "    .dataframe thead th {\n",
       "        text-align: right;\n",
       "    }\n",
       "</style>\n",
       "<table border=\"1\" class=\"dataframe\">\n",
       "  <thead>\n",
       "    <tr style=\"text-align: right;\">\n",
       "      <th></th>\n",
       "      <th>exp_group</th>\n",
       "      <th>user_id</th>\n",
       "      <th>likes</th>\n",
       "      <th>views</th>\n",
       "      <th>ctr</th>\n",
       "      <th>lin_likes</th>\n",
       "    </tr>\n",
       "  </thead>\n",
       "  <tbody>\n",
       "    <tr>\n",
       "      <th>1</th>\n",
       "      <td>1</td>\n",
       "      <td>18392</td>\n",
       "      <td>7</td>\n",
       "      <td>32</td>\n",
       "      <td>0.218750</td>\n",
       "      <td>0.343142</td>\n",
       "    </tr>\n",
       "    <tr>\n",
       "      <th>3</th>\n",
       "      <td>2</td>\n",
       "      <td>131473</td>\n",
       "      <td>14</td>\n",
       "      <td>134</td>\n",
       "      <td>0.104478</td>\n",
       "      <td>-13.875592</td>\n",
       "    </tr>\n",
       "    <tr>\n",
       "      <th>5</th>\n",
       "      <td>2</td>\n",
       "      <td>32420</td>\n",
       "      <td>26</td>\n",
       "      <td>128</td>\n",
       "      <td>0.203125</td>\n",
       "      <td>-0.627431</td>\n",
       "    </tr>\n",
       "    <tr>\n",
       "      <th>6</th>\n",
       "      <td>2</td>\n",
       "      <td>24239</td>\n",
       "      <td>40</td>\n",
       "      <td>90</td>\n",
       "      <td>0.444444</td>\n",
       "      <td>21.277588</td>\n",
       "    </tr>\n",
       "    <tr>\n",
       "      <th>8</th>\n",
       "      <td>1</td>\n",
       "      <td>27443</td>\n",
       "      <td>2</td>\n",
       "      <td>29</td>\n",
       "      <td>0.068966</td>\n",
       "      <td>-4.032777</td>\n",
       "    </tr>\n",
       "  </tbody>\n",
       "</table>\n",
       "</div>"
      ],
      "text/plain": [
       "   exp_group  user_id  likes  views       ctr  lin_likes\n",
       "1          1    18392      7     32  0.218750   0.343142\n",
       "3          2   131473     14    134  0.104478 -13.875592\n",
       "5          2    32420     26    128  0.203125  -0.627431\n",
       "6          2    24239     40     90  0.444444  21.277588\n",
       "8          1    27443      2     29  0.068966  -4.032777"
      ]
     },
     "execution_count": 23,
     "metadata": {},
     "output_type": "execute_result"
    }
   ],
   "source": [
    "df_12.head()"
   ]
  },
  {
   "cell_type": "code",
   "execution_count": 24,
   "id": "f1d22b74",
   "metadata": {},
   "outputs": [
    {
     "data": {
      "image/png": "[encoded data removed]",
      "text/plain": [
       "<Figure size 1080x720 with 1 Axes>"
      ]
     },
     "metadata": {
      "needs_background": "light"
     },
     "output_type": "display_data"
    }
   ],
   "source": [
    "# Распределение метрики линеаризованных лайков для двух групп.\n",
    "\n",
    "plt.figure(figsize=(15, 10))\n",
    "\n",
    "sns.histplot(data=df_12, x='lin_likes', hue='exp_group', palette='Purples')\n",
    "sns.despine()\n",
    "plt.show()"
   ]
  },
  {
   "cell_type": "markdown",
   "id": "bdff8de3",
   "metadata": {},
   "source": [
    "По визуальной оценке оба распредления линеаризованных лайков являются нормальными - имеют одну моду и являются симметричными. Разброс значений у группы 2 явно больше."
   ]
  },
  {
   "cell_type": "code",
   "execution_count": 25,
   "id": "3c85c049",
   "metadata": {},
   "outputs": [
    {
     "name": "stdout",
     "output_type": "stream",
     "text": [
      "p-value = 9.439432187037644e-10, \n",
      "при α = 0.05 были обнаружены статистически значимые различия средних значений двух групп.\n"
     ]
    }
   ],
   "source": [
    "# t-test на метрике линеаризованных лайков.\n",
    "# H0: μ1 = μ2\n",
    "# H0: μ1 != μ2\n",
    "\n",
    "stat, p = stats.ttest_ind(df_12[df_12.exp_group == 1].lin_likes, df_12[df_12.exp_group == 2].lin_likes, equal_var=False)\n",
    "\n",
    "if p >= 0.05:\n",
    "    print(f'p-value = {p}, \\nпри α = 0.05 мы не можем отклонить H0 о равенстве средних значений.')\n",
    "else:\n",
    "    print(f'p-value = {p}, \\nпри α = 0.05 были обнаружены статистически значимые различия средних значений двух групп.')"
   ]
  },
  {
   "cell_type": "markdown",
   "id": "a6ab19a6",
   "metadata": {},
   "source": [
    "#### Вывод\n",
    "1. Значения ctr у групп 0 и 3 в целом распределены нормально (распределения имеют по одной моде и в целом являются симметричными, но есть достаточные выбросы). t-test на сырых значениях ctr и t-test на метрике линеаризованных лайков дали схожий результат -> мы смогли отклонить H0. <br>  Можно сказать, что данные для групп 0 и 3 являются \"беспроблемными\". На таких данных мощности t-test-а на сырых значениях ctr оказалось достаточно, чтобы найти значимые отличия в средних значениях ctr сравниваем групп. Метрика линеаризованных лайков является более чувствительной, поэтому по результатам t-test-а было получено меньшее значение p-value.\n",
    "\n",
    "2. Значения ctr у группы 1 распределены нормально, у группы 2 распределение значений ctr имеет две моды, длинный правый хвост и большой размах данных. t-test на сырых значениях ctr и t-test на метрике линеаризованных лайков дали противоположные результаты: t-test на сырых значениях ctr не позволил отклонить H0, в то время как t-test на метрике линеаризованных лайков смог задетектировать статистически значимые различия между сравниваемыми группами. <br> Я бы не стала опираться на результаты t-testa на сырых значениях ctr с выборками, одна из которых(группа 2) имеет явное бимодальное распределение, длинный правый хвост и большой разброс значений(дисперсия тоже будет большой) -> смещенная оценка среднего значения."
   ]
  },
  {
   "cell_type": "code",
   "execution_count": null,
   "id": "ae89b4da",
   "metadata": {},
   "outputs": [],
   "source": []
  },
  {
   "cell_type": "code",
   "execution_count": null,
   "id": "6cbf6148",
   "metadata": {},
   "outputs": [],
   "source": []
  }
 ],
 "metadata": {
  "kernelspec": {
   "display_name": "Python 3 (ipykernel)",
   "language": "python",
   "name": "python3"
  },
  "language_info": {
   "codemirror_mode": {
    "name": "ipython",
    "version": 3
   },
   "file_extension": ".py",
   "mimetype": "text/x-python",
   "name": "python",
   "nbconvert_exporter": "python",
   "pygments_lexer": "ipython3",
   "version": "3.10.6"
  }
 },
 "nbformat": 4,
 "nbformat_minor": 5
}
